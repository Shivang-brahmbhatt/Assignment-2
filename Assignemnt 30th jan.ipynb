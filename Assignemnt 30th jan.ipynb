{
 "cells": [
  {
   "cell_type": "markdown",
   "id": "ab063408-6375-4f26-b8e1-a6c79997b558",
   "metadata": {},
   "source": [
    "# Assignemnt-2 (30th january)"
   ]
  },
  {
   "cell_type": "code",
   "execution_count": 1,
   "id": "05dbb891-3fb1-4122-82f5-5dc29ac6d167",
   "metadata": {},
   "outputs": [
    {
     "name": "stdin",
     "output_type": "stream",
     "text": [
      "Enter your total marks 55\n"
     ]
    },
    {
     "name": "stdout",
     "output_type": "stream",
     "text": [
      "You have passed examination with D grade\n",
      "Work hard and Better luck next time.\n"
     ]
    }
   ],
   "source": [
    "#1 Write a program to accept percentage from user and display the grades according to the following criteria\n",
    "marks=int(input(\"Enter your total marks\"))\n",
    "if marks>90:\n",
    "    print(\"Congratulations, You have passed examination with A grade \")\n",
    "elif marks>80 and marks<=90:\n",
    "    print(\"Congratulations, You have passed examination with B grade \")\n",
    "elif marks>=60 and marks<=80:\n",
    "    print(\"Congratulations, You have passed examination with c grade \")\n",
    "    print(\"work hard\")\n",
    "elif marks<60:\n",
    "    print(\"You have passed examination with D grade\")\n",
    "    print(\"Work hard and Better luck next time.\")\n",
    "else:\n",
    "    print(\"Enter the valid digit\")\n",
    "    "
   ]
  },
  {
   "cell_type": "code",
   "execution_count": 2,
   "id": "89b632e4-9667-4266-a63a-80a5484a8231",
   "metadata": {},
   "outputs": [
    {
     "name": "stdin",
     "output_type": "stream",
     "text": [
      "Enter the cost price of the bike 55\n"
     ]
    },
    {
     "name": "stdout",
     "output_type": "stream",
     "text": [
      "You will have to pay 5% road tax\n"
     ]
    }
   ],
   "source": [
    "#2.write a program to accept the cost price of the bike and display the road tax to be paid according to the following criteria.\n",
    "cost_price=int(input(\"Enter the cost price of the bike\"))\n",
    "if cost_price>100000:\n",
    "    print(\"You will have to pay 15% road tax\")\n",
    "elif cost_price>50000 and cost_price<=100000:\n",
    "    print(\"You will have to pay 10% road tax\")\n",
    "elif cost_price<=50000:\n",
    "    print(\"You will have to pay 5% road tax\")\n",
    "else:\n",
    "    print(\"Enter the correct cost price of  bike \")"
   ]
  },
  {
   "cell_type": "code",
   "execution_count": 3,
   "id": "0163cefc-c69f-4808-bc61-00fca84f65b7",
   "metadata": {},
   "outputs": [
    {
     "name": "stdin",
     "output_type": "stream",
     "text": [
      "Enter the name of the city 22\n"
     ]
    },
    {
     "name": "stdout",
     "output_type": "stream",
     "text": [
      "Enter the correct city name\n"
     ]
    }
   ],
   "source": [
    "#3. Accept any city from user and display the monument of the city.\n",
    "city=str(input(\"Enter the name of the city\"))\n",
    "if city=='Delhi':\n",
    "    print(\"The monument of Delhi is Redfort\")\n",
    "elif city=='Agra':\n",
    "    print(\"The monument of Delhi is Taj Mahal\")\n",
    "elif city=='Jaipur':\n",
    "    print(\"The monument of Delhi is Jal Mahal\")\n",
    "else:\n",
    "    print(\"Enter the correct city name\")"
   ]
  },
  {
   "cell_type": "code",
   "execution_count": 6,
   "id": "59041685-6a3d-435b-8833-ba164c6aedee",
   "metadata": {},
   "outputs": [
    {
     "name": "stdout",
     "output_type": "stream",
     "text": [
      "0\n",
      "3\n",
      "6\n",
      "9\n"
     ]
    }
   ],
   "source": [
    "#4. Check how many times a given number can be divided by 3 before it is less than or equla to 10.\n",
    "\n",
    "for i in range(10):\n",
    "    if i%3 == 0:\n",
    "        print(i)"
   ]
  },
  {
   "cell_type": "markdown",
   "id": "9ca886a5-84fe-4686-996f-6c44a9d7858b",
   "metadata": {
    "tags": []
   },
   "source": [
    "### Python While Loop is used to execute a block of statements repeatedly until a given condition is satisfied. And when the condition becomes false, the line immediately after the loop in the program is executed.\n",
    "In simple words if we do not know for how much time the loop is going to executed,which will performs indefinite iterations. When a while loop is executed, expr is first evaluated in a Boolean context and if it is true, the loop body is executed. Then the expr is checked again, if it is still true then the body is executed again and this continues until the expression becomes false.\n"
   ]
  },
  {
   "cell_type": "code",
   "execution_count": 8,
   "id": "8f1efe19-e93f-4f6d-b6aa-90ae2dfb0985",
   "metadata": {},
   "outputs": [
    {
     "name": "stdout",
     "output_type": "stream",
     "text": [
      "10\n",
      "9\n",
      "8\n",
      "7\n",
      "6\n",
      "5\n",
      "4\n",
      "3\n",
      "2\n",
      "1\n",
      "Sorry, The apples are finished.You need to buy new from the market\n"
     ]
    }
   ],
   "source": [
    "#for example\n",
    "#There are 10 apples in the bag and the boy eats 1 apple everyday\n",
    "Total_apples=10\n",
    "while Total_apples != 0:\n",
    "    print(Total_apples)\n",
    "    Total_apples=Total_apples-1\n",
    "else:\n",
    "    print(\"Sorry, The apples are finished.You need to buy new from the market\")\n",
    "    \n",
    "\n",
    "    "
   ]
  },
  {
   "cell_type": "code",
   "execution_count": null,
   "id": "cdc3d0e5-dc50-4383-bfc4-b8bb7ec6b73f",
   "metadata": {},
   "outputs": [],
   "source": [
    "#6 use nested while loop to print 3 different patterns"
   ]
  },
  {
   "cell_type": "code",
   "execution_count": 12,
   "id": "3c2dd248-8182-4834-9a85-ce74873d5cf3",
   "metadata": {},
   "outputs": [
    {
     "name": "stdout",
     "output_type": "stream",
     "text": [
      "10\n",
      "9\n",
      "8\n",
      "7\n",
      "6\n",
      "5\n",
      "4\n",
      "3\n",
      "2\n",
      "1\n"
     ]
    }
   ],
   "source": [
    "#10 Reverse a while loop to display numbers from 10 to 1\n",
    "Total_numbers=10\n",
    "while Total_numbers>=1:\n",
    "    print(Total_numbers)\n",
    "    Total_numbers=Total_numbers-1"
   ]
  },
  {
   "cell_type": "code",
   "execution_count": 11,
   "id": "7d3130d6-7f6a-4bab-a67b-127f37dfcd14",
   "metadata": {},
   "outputs": [
    {
     "name": "stdout",
     "output_type": "stream",
     "text": [
      "9\n",
      "8\n",
      "7\n",
      "6\n",
      "5\n",
      "4\n",
      "3\n",
      "2\n",
      "1\n",
      "0\n"
     ]
    }
   ],
   "source": []
  },
  {
   "cell_type": "code",
   "execution_count": null,
   "id": "ea566118-e534-4d09-a2e8-7bcb8a934776",
   "metadata": {},
   "outputs": [],
   "source": []
  },
  {
   "cell_type": "code",
   "execution_count": null,
   "id": "8e6ab868-7d29-41dc-bd94-52c34d79714e",
   "metadata": {},
   "outputs": [],
   "source": []
  },
  {
   "cell_type": "code",
   "execution_count": null,
   "id": "d406dca9-72c2-4191-a622-e65800dcdbd5",
   "metadata": {},
   "outputs": [],
   "source": []
  }
 ],
 "metadata": {
  "kernelspec": {
   "display_name": "Python 3 (ipykernel)",
   "language": "python",
   "name": "python3"
  },
  "language_info": {
   "codemirror_mode": {
    "name": "ipython",
    "version": 3
   },
   "file_extension": ".py",
   "mimetype": "text/x-python",
   "name": "python",
   "nbconvert_exporter": "python",
   "pygments_lexer": "ipython3",
   "version": "3.10.8"
  }
 },
 "nbformat": 4,
 "nbformat_minor": 5
}
